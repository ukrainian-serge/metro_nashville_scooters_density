{
 "cells": [
  {
   "cell_type": "markdown",
   "metadata": {},
   "source": [
    "# Seeking out issues"
   ]
  },
  {
   "cell_type": "code",
   "execution_count": 1,
   "metadata": {},
   "outputs": [],
   "source": [
    "import pandas as pd\n",
    "import numpy as np\n",
    "\n",
    "# pd.set_option('display.max_rows', 5000)\n",
    "from IPython.core.interactiveshell import InteractiveShell\n",
    "InteractiveShell.ast_node_interactivity = \"all\""
   ]
  },
  {
   "cell_type": "code",
   "execution_count": 7,
   "metadata": {},
   "outputs": [],
   "source": [
    "def read(path):\n",
    "    df = pd.read_csv(path, \n",
    "                     header=0, \n",
    "                     parse_dates=[\n",
    "                         'pubTimeStamp', \n",
    "#                          'startTime', \n",
    "#                          'endTime'\n",
    "                     ])\n",
    "    return df\n",
    "\n",
    "may = read('./data_scooter/may/may_trip.csv')\n",
    "june = read('./data_scooter/june/june_trip.csv')\n",
    "july = read('./data_scooter/july/july_trip.csv')"
   ]
  },
  {
   "cell_type": "markdown",
   "metadata": {},
   "source": [
    "---\n",
    "\n",
    "## Percentage of scooters reaching 3 or more rides a day"
   ]
  },
  {
   "cell_type": "code",
   "execution_count": 8,
   "metadata": {},
   "outputs": [],
   "source": [
    "may1 = may.groupby([may.pubTimeStamp.dt.day, 'sumdID']).size()\n",
    "june1 = may.groupby([may.pubTimeStamp.dt.day, 'sumdID']).size()\n",
    "july1 = june.groupby([june.pubTimeStamp.dt.day, 'sumdID']).size()"
   ]
  },
  {
   "cell_type": "code",
   "execution_count": 9,
   "metadata": {},
   "outputs": [
    {
     "data": {
      "text/plain": [
       "'May: 43.6%'"
      ]
     },
     "execution_count": 9,
     "metadata": {},
     "output_type": "execute_result"
    },
    {
     "data": {
      "text/plain": [
       "'June: 43.6%'"
      ]
     },
     "execution_count": 9,
     "metadata": {},
     "output_type": "execute_result"
    },
    {
     "data": {
      "text/plain": [
       "'July: 40.81%'"
      ]
     },
     "execution_count": 9,
     "metadata": {},
     "output_type": "execute_result"
    },
    {
     "data": {
      "text/plain": [
       "'Average: 43.0%'"
      ]
     },
     "execution_count": 9,
     "metadata": {},
     "output_type": "execute_result"
    }
   ],
   "source": [
    "may_gt_3 = (may1 >= 3).sum() \n",
    "may_lt_3 = (may1 < 3).sum()\n",
    "\n",
    "june_gt_3 = (june1 >= 3).sum()\n",
    "june_lt_3 = (june1 < 3).sum()\n",
    "\n",
    "july_gt_3 = (july1 >= 3).sum()\n",
    "july_ls_3 = (july1 < 3).sum()\n",
    "\n",
    "may_met_3 = (may_gt_3 / (may_gt_3 + may_lt_3) * 100)\n",
    "june_met_3 = (june_gt_3 / (june_gt_3 + june_lt_3) * 100)\n",
    "july_met_3 = (july_gt_3 / (july_gt_3 + july_ls_3) * 100)\n",
    "\n",
    "f\"May: {round(may_met_3, 2)}%\"\n",
    "f\"June: {round(june_met_3, 2)}%\"\n",
    "f\"July: {round(july_met_3, 2)}%\"\n",
    "\n",
    "f\"Average: {round(np.mean([may_met_3, june_met_3, july_met_3]))}%\""
   ]
  },
  {
   "cell_type": "markdown",
   "metadata": {},
   "source": [
    "## How many unique sumdID's? \n",
    "\n",
    "`Slide says 5860`  \n",
    "`Below is 9005`\n"
   ]
  },
  {
   "cell_type": "code",
   "execution_count": 25,
   "metadata": {},
   "outputs": [
    {
     "data": {
      "text/plain": [
       "(565522, 16)"
      ]
     },
     "execution_count": 25,
     "metadata": {},
     "output_type": "execute_result"
    },
    {
     "data": {
      "text/plain": [
       "565522"
      ]
     },
     "execution_count": 25,
     "metadata": {},
     "output_type": "execute_result"
    }
   ],
   "source": [
    "all_months = pd.concat([may, june, july])\n",
    "all_months.shape\n",
    "may.shape[0]+june.shape[0]+july.shape[0] # double checking everything concatted"
   ]
  },
  {
   "cell_type": "code",
   "execution_count": 26,
   "metadata": {},
   "outputs": [
    {
     "name": "stdout",
     "output_type": "stream",
     "text": [
      "May unique sumdID's: 6966\n",
      "June unique sumdID's: 6742\n",
      "July unique sumdID's: 5585\n",
      "\n",
      "Unique sumdID's across all months: 9005\n"
     ]
    }
   ],
   "source": [
    "print(f\"May unique sumdID's: {may.reset_index().sumdID.nunique()}\")\n",
    "print(f\"June unique sumdID's: {june.reset_index().sumdID.nunique()}\")\n",
    "print(f\"July unique sumdID's: {july.reset_index().sumdID.nunique()}\\n\")\n",
    "\n",
    "print(f\"Unique sumdID's across all months: {all_months.reset_index().sumdID.nunique()}\")"
   ]
  },
  {
   "cell_type": "code",
   "execution_count": null,
   "metadata": {},
   "outputs": [],
   "source": []
  },
  {
   "cell_type": "code",
   "execution_count": null,
   "metadata": {},
   "outputs": [],
   "source": []
  }
 ],
 "metadata": {
  "hide_input": false,
  "kernelspec": {
   "display_name": "Python 3.7.5 64-bit ('pluto': virtualenv)",
   "language": "python",
   "name": "python37564bitplutovirtualenvbd638e4b81394a718c79fa3555869541"
  },
  "language_info": {
   "codemirror_mode": {
    "name": "ipython",
    "version": 3
   },
   "file_extension": ".py",
   "mimetype": "text/x-python",
   "name": "python",
   "nbconvert_exporter": "python",
   "pygments_lexer": "ipython3",
   "version": "3.7.5"
  }
 },
 "nbformat": 4,
 "nbformat_minor": 4
}
