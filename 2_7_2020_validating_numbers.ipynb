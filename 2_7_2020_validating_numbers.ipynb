{
 "cells": [
  {
   "cell_type": "markdown",
   "metadata": {},
   "source": [
    "# Seeking out issues"
   ]
  },
  {
   "cell_type": "code",
   "execution_count": 1,
   "metadata": {},
   "outputs": [],
   "source": [
    "import pandas as pd\n",
    "import numpy as np\n",
    "\n",
    "# pd.set_option('display.max_rows', 5000)\n",
    "from IPython.core.interactiveshell import InteractiveShell\n",
    "InteractiveShell.ast_node_interactivity = \"all\""
   ]
  },
  {
   "cell_type": "code",
   "execution_count": 49,
   "metadata": {},
   "outputs": [],
   "source": [
    "def read(path):\n",
    "    df = pd.read_csv(path, header=0, parse_dates=['pubTimeStamp'])\n",
    "    return df\n",
    "\n",
    "may = read('./data_scooter/may/may_trip.csv')\n",
    "june = read('./data_scooter/june/june_trip.csv')\n",
    "july = read('./data_scooter/july/july_trip.csv')"
   ]
  },
  {
   "cell_type": "markdown",
   "metadata": {},
   "source": [
    "---\n",
    "\n",
    "## Percentage of scooters reaching 3 or more rides a day"
   ]
  },
  {
   "cell_type": "code",
   "execution_count": 41,
   "metadata": {},
   "outputs": [],
   "source": [
    "may1 = may.groupby([may.pubTimeStamp.dt.day, 'sumdID']).size()\n",
    "june1 = may.groupby([may.pubTimeStamp.dt.day, 'sumdID']).size()\n",
    "july1 = june.groupby([june.pubTimeStamp.dt.day, 'sumdID']).size()"
   ]
  },
  {
   "cell_type": "code",
   "execution_count": 42,
   "metadata": {},
   "outputs": [
    {
     "data": {
      "text/plain": [
       "'May: 43.6%'"
      ]
     },
     "execution_count": 42,
     "metadata": {},
     "output_type": "execute_result"
    },
    {
     "data": {
      "text/plain": [
       "'June: 43.6%'"
      ]
     },
     "execution_count": 42,
     "metadata": {},
     "output_type": "execute_result"
    },
    {
     "data": {
      "text/plain": [
       "'July: 40.81%'"
      ]
     },
     "execution_count": 42,
     "metadata": {},
     "output_type": "execute_result"
    },
    {
     "data": {
      "text/plain": [
       "'Average: 43.0%'"
      ]
     },
     "execution_count": 42,
     "metadata": {},
     "output_type": "execute_result"
    }
   ],
   "source": [
    "may_gt_3 = (may1 >= 3).sum(); may_lt_3 = (may1 < 3).sum()\n",
    "\n",
    "june_gt_3 = (june1 >= 3).sum(); june_lt_3 = (june1 < 3).sum()\n",
    "\n",
    "july_gt_3 = (july1 >= 3).sum(); july_ls_3 = (july1 < 3).sum()\n",
    "\n",
    "may_met_3 = (may_gt_3 / (may_gt_3 + may_lt_3) * 100)\n",
    "june_met_3 = (june_gt_3 / (june_gt_3 + june_lt_3) * 100)\n",
    "july_met_3 = (july_gt_3 / (july_gt_3 + july_ls_3) * 100)\n",
    "\n",
    "f\"May: {round(may_met_3, 2)}%\"\n",
    "f\"June: {round(june_met_3, 2)}%\"\n",
    "f\"July: {round(july_met_3, 2)}%\"\n",
    "f\"Average: {round(np.mean([may_met_3, june_met_3, july_met_3]))}%\""
   ]
  },
  {
   "cell_type": "markdown",
   "metadata": {},
   "source": [
    "## How many unique sumdID's? \n",
    "\n",
    "`Slide says 5860`  \n",
    "`Below is 9005`\n"
   ]
  },
  {
   "cell_type": "code",
   "execution_count": 57,
   "metadata": {},
   "outputs": [
    {
     "data": {
      "text/plain": [
       "565522"
      ]
     },
     "execution_count": 57,
     "metadata": {},
     "output_type": "execute_result"
    },
    {
     "data": {
      "text/plain": [
       "565522"
      ]
     },
     "execution_count": 57,
     "metadata": {},
     "output_type": "execute_result"
    }
   ],
   "source": [
    "all_months = pd.concat([may, june, july])\n",
    "all_months.shape[0]\n",
    "may.shape[0]+june.shape[0]+july.shape[0] # double checking everything concatted"
   ]
  },
  {
   "cell_type": "code",
   "execution_count": 26,
   "metadata": {},
   "outputs": [
    {
     "name": "stdout",
     "output_type": "stream",
     "text": [
      "May unique sumdID's: 6966\n",
      "June unique sumdID's: 6742\n",
      "July unique sumdID's: 5585\n",
      "\n",
      "Unique sumdID's across all months: 9005\n"
     ]
    }
   ],
   "source": [
    "print(f\"May unique sumdID's: {may.reset_index().sumdID.nunique()}\")\n",
    "print(f\"June unique sumdID's: {june.reset_index().sumdID.nunique()}\")\n",
    "print(f\"July unique sumdID's: {july.reset_index().sumdID.nunique()}\\n\")\n",
    "\n",
    "print(f\"Unique sumdID's across all months: {all_months.reset_index().sumdID.nunique()}\")"
   ]
  },
  {
   "cell_type": "markdown",
   "metadata": {},
   "source": [
    "## Each month dataset has data from succeeding month\n",
    "\n",
    "Cases not native to the datasets:\n",
    "- `may`: 466  \n",
    "- `June`: 112  \n",
    "- `July`: 78 "
   ]
  },
  {
   "cell_type": "code",
   "execution_count": 70,
   "metadata": {},
   "outputs": [
    {
     "data": {
      "text/plain": [
       "224503"
      ]
     },
     "execution_count": 70,
     "metadata": {},
     "output_type": "execute_result"
    },
    {
     "data": {
      "text/plain": [
       "205515"
      ]
     },
     "execution_count": 70,
     "metadata": {},
     "output_type": "execute_result"
    },
    {
     "data": {
      "text/plain": [
       "134848"
      ]
     },
     "execution_count": 70,
     "metadata": {},
     "output_type": "execute_result"
    }
   ],
   "source": [
    "# filtering out \n",
    "may2 = may[may.pubTimeStamp.dt.month == 5]\n",
    "june2 = june[june.pubTimeStamp.dt.month == 6]\n",
    "july2 = july[july.pubTimeStamp.dt.month == 7]\n",
    "may2.shape[0]; june2.shape[0]; july2.shape[0]"
   ]
  },
  {
   "cell_type": "markdown",
   "metadata": {},
   "source": [
    "## Aren't trip record numbers supposed to be unique?\n",
    "\n",
    "The assumption is trips are supposed to be unique?  \n",
    "Look what I found below."
   ]
  },
  {
   "cell_type": "code",
   "execution_count": 133,
   "metadata": {},
   "outputs": [
    {
     "data": {
      "text/plain": [
       "42425"
      ]
     },
     "execution_count": 133,
     "metadata": {},
     "output_type": "execute_result"
    },
    {
     "data": {
      "text/plain": [
       "224503"
      ]
     },
     "execution_count": 133,
     "metadata": {},
     "output_type": "execute_result"
    }
   ],
   "source": [
    "# may2grouped = may2.groupby(may2.pubTimeStamp.dt.day)['tripRecordNum'].value_counts()\n",
    "may2grouped = may2.groupby(['sumdID','tripRecordNum']).size()\n",
    "\n",
    "ununique_tripnums = (may2grouped[may2grouped > 1]\n",
    "                     .index\n",
    "                     .get_level_values(1)\n",
    "                     .to_list())\n",
    "\n",
    "ununique_trip_df = may2[may2['tripRecordNum'].isin(ununique_tripnums)]\n",
    "ununique_trip_df.shape[0]\n",
    "may2.shape[0]"
   ]
  },
  {
   "cell_type": "code",
   "execution_count": 132,
   "metadata": {},
   "outputs": [
    {
     "data": {
      "text/plain": [
       "Lime             25333\n",
       "Lyft             12215\n",
       "Bird              3576\n",
       "SPIN               700\n",
       "JUMP               224\n",
       "Bolt Mobility      216\n",
       "Gotcha             161\n",
       "Name: companyName, dtype: int64"
      ]
     },
     "execution_count": 132,
     "metadata": {},
     "output_type": "execute_result"
    }
   ],
   "source": [
    "ununique_trip_df.companyName.value_counts()"
   ]
  },
  {
   "cell_type": "code",
   "execution_count": 143,
   "metadata": {},
   "outputs": [],
   "source": [
    "may3grouped = may2.groupby([may2.pubTimeStamp.dt.day, 'tripRecordNum']).size()\n",
    "june3grouped = june2.groupby([june2.pubTimeStamp.dt.day, 'tripRecordNum']).size()\n",
    "july3grouped = july2.groupby([july2.pubTimeStamp.dt.day, 'tripRecordNum']).size()"
   ]
  },
  {
   "cell_type": "code",
   "execution_count": 146,
   "metadata": {},
   "outputs": [
    {
     "data": {
      "text/plain": [
       "7750"
      ]
     },
     "execution_count": 146,
     "metadata": {},
     "output_type": "execute_result"
    },
    {
     "data": {
      "text/plain": [
       "(216753,)"
      ]
     },
     "execution_count": 146,
     "metadata": {},
     "output_type": "execute_result"
    },
    {
     "data": {
      "text/plain": [
       "1576"
      ]
     },
     "execution_count": 146,
     "metadata": {},
     "output_type": "execute_result"
    },
    {
     "data": {
      "text/plain": [
       "(203939,)"
      ]
     },
     "execution_count": 146,
     "metadata": {},
     "output_type": "execute_result"
    },
    {
     "data": {
      "text/plain": [
       "375"
      ]
     },
     "execution_count": 146,
     "metadata": {},
     "output_type": "execute_result"
    },
    {
     "data": {
      "text/plain": [
       "(134473,)"
      ]
     },
     "execution_count": 146,
     "metadata": {},
     "output_type": "execute_result"
    }
   ],
   "source": [
    "(may3grouped > 1).sum()\n",
    "may3grouped.shape\n",
    "(june3grouped > 1).sum()\n",
    "june3grouped.shape\n",
    "(july3grouped > 1).sum()\n",
    "july3grouped.shape"
   ]
  },
  {
   "cell_type": "code",
   "execution_count": 142,
   "metadata": {},
   "outputs": [
    {
     "data": {
      "text/plain": [
       "1    209003\n",
       "2      7750\n",
       "dtype: int64"
      ]
     },
     "execution_count": 142,
     "metadata": {},
     "output_type": "execute_result"
    }
   ],
   "source": [
    "may3grouped.value_counts()"
   ]
  },
  {
   "cell_type": "code",
   "execution_count": 148,
   "metadata": {},
   "outputs": [
    {
     "data": {
      "text/plain": [
       "Index(['pubTimeStamp', 'companyName', 'tripRecordNum', 'sumdID',\n",
       "       'tripDuration', 'tripDistance', 'startDate', 'startTime', 'endDate',\n",
       "       'endTime', 'startLatitude', 'startLongitude', 'endLatitude',\n",
       "       'endLongitude', 'tripRoute', 'create_dt'],\n",
       "      dtype='object')"
      ]
     },
     "execution_count": 148,
     "metadata": {},
     "output_type": "execute_result"
    }
   ],
   "source": [
    "may2.columns"
   ]
  },
  {
   "cell_type": "code",
   "execution_count": 153,
   "metadata": {},
   "outputs": [
    {
     "data": {
      "text/plain": [
       "19945"
      ]
     },
     "execution_count": 153,
     "metadata": {},
     "output_type": "execute_result"
    }
   ],
   "source": [
    "sum(may2.tripDistance < 3)"
   ]
  },
  {
   "cell_type": "code",
   "execution_count": null,
   "metadata": {},
   "outputs": [],
   "source": []
  }
 ],
 "metadata": {
  "hide_input": false,
  "kernelspec": {
   "display_name": "Python 3.7.5 64-bit ('pluto': virtualenv)",
   "language": "python",
   "name": "python37564bitplutovirtualenvbd638e4b81394a718c79fa3555869541"
  },
  "language_info": {
   "codemirror_mode": {
    "name": "ipython",
    "version": 3
   },
   "file_extension": ".py",
   "mimetype": "text/x-python",
   "name": "python",
   "nbconvert_exporter": "python",
   "pygments_lexer": "ipython3",
   "version": "3.7.5"
  }
 },
 "nbformat": 4,
 "nbformat_minor": 4
}
